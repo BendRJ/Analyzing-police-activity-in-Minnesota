{
 "cells": [
  {
   "cell_type": "code",
   "execution_count": 55,
   "metadata": {},
   "outputs": [],
   "source": [
    "import pandas as pd\n",
    "import matplotlib.pyplot as plt"
   ]
  },
  {
   "cell_type": "code",
   "execution_count": 56,
   "metadata": {},
   "outputs": [],
   "source": [
    "df = pd.read_csv('Data/Minnesota.csv', low_memory=False)"
   ]
  },
  {
   "cell_type": "markdown",
   "metadata": {},
   "source": [
    "First glance of the data:"
   ]
  },
  {
   "cell_type": "code",
   "execution_count": 57,
   "metadata": {},
   "outputs": [
    {
     "data": {
      "text/html": [
       "<div>\n",
       "<style scoped>\n",
       "    .dataframe tbody tr th:only-of-type {\n",
       "        vertical-align: middle;\n",
       "    }\n",
       "\n",
       "    .dataframe tbody tr th {\n",
       "        vertical-align: top;\n",
       "    }\n",
       "\n",
       "    .dataframe thead th {\n",
       "        text-align: right;\n",
       "    }\n",
       "</style>\n",
       "<table border=\"1\" class=\"dataframe\">\n",
       "  <thead>\n",
       "    <tr style=\"text-align: right;\">\n",
       "      <th></th>\n",
       "      <th>raw_row_number</th>\n",
       "      <th>date</th>\n",
       "      <th>time</th>\n",
       "      <th>lat</th>\n",
       "      <th>lng</th>\n",
       "      <th>police_grid_number</th>\n",
       "      <th>subject_age</th>\n",
       "      <th>subject_race</th>\n",
       "      <th>subject_sex</th>\n",
       "      <th>type</th>\n",
       "      <th>citation_issued</th>\n",
       "      <th>outcome</th>\n",
       "      <th>frisk_performed</th>\n",
       "      <th>search_conducted</th>\n",
       "      <th>search_vehicle</th>\n",
       "      <th>raw_race_of_driver</th>\n",
       "    </tr>\n",
       "  </thead>\n",
       "  <tbody>\n",
       "    <tr>\n",
       "      <th>0</th>\n",
       "      <td>93569</td>\n",
       "      <td>2001-01-01</td>\n",
       "      <td>01:13:00</td>\n",
       "      <td>44.981102</td>\n",
       "      <td>-93.020193</td>\n",
       "      <td>39</td>\n",
       "      <td>NaN</td>\n",
       "      <td>white</td>\n",
       "      <td>male</td>\n",
       "      <td>vehicular</td>\n",
       "      <td>False</td>\n",
       "      <td>NaN</td>\n",
       "      <td>False</td>\n",
       "      <td>False</td>\n",
       "      <td>False</td>\n",
       "      <td>White</td>\n",
       "    </tr>\n",
       "    <tr>\n",
       "      <th>1</th>\n",
       "      <td>93570</td>\n",
       "      <td>2001-01-01</td>\n",
       "      <td>01:14:00</td>\n",
       "      <td>44.959361</td>\n",
       "      <td>-93.141547</td>\n",
       "      <td>87</td>\n",
       "      <td>NaN</td>\n",
       "      <td>black</td>\n",
       "      <td>male</td>\n",
       "      <td>vehicular</td>\n",
       "      <td>False</td>\n",
       "      <td>NaN</td>\n",
       "      <td>True</td>\n",
       "      <td>False</td>\n",
       "      <td>False</td>\n",
       "      <td>Black</td>\n",
       "    </tr>\n",
       "    <tr>\n",
       "      <th>2</th>\n",
       "      <td>93571</td>\n",
       "      <td>2001-01-01</td>\n",
       "      <td>01:47:00</td>\n",
       "      <td>44.959163</td>\n",
       "      <td>-93.071815</td>\n",
       "      <td>94</td>\n",
       "      <td>NaN</td>\n",
       "      <td>hispanic</td>\n",
       "      <td>male</td>\n",
       "      <td>vehicular</td>\n",
       "      <td>False</td>\n",
       "      <td>NaN</td>\n",
       "      <td>False</td>\n",
       "      <td>False</td>\n",
       "      <td>False</td>\n",
       "      <td>Hispanic</td>\n",
       "    </tr>\n",
       "    <tr>\n",
       "      <th>3</th>\n",
       "      <td>93572</td>\n",
       "      <td>2001-01-01</td>\n",
       "      <td>02:22:00</td>\n",
       "      <td>44.960154</td>\n",
       "      <td>-93.091979</td>\n",
       "      <td>92</td>\n",
       "      <td>NaN</td>\n",
       "      <td>asian/pacific islander</td>\n",
       "      <td>male</td>\n",
       "      <td>vehicular</td>\n",
       "      <td>False</td>\n",
       "      <td>NaN</td>\n",
       "      <td>True</td>\n",
       "      <td>True</td>\n",
       "      <td>True</td>\n",
       "      <td>Asian</td>\n",
       "    </tr>\n",
       "    <tr>\n",
       "      <th>4</th>\n",
       "      <td>93581</td>\n",
       "      <td>2001-01-01</td>\n",
       "      <td>15:01:00</td>\n",
       "      <td>44.959361</td>\n",
       "      <td>-93.141547</td>\n",
       "      <td>87</td>\n",
       "      <td>NaN</td>\n",
       "      <td>black</td>\n",
       "      <td>male</td>\n",
       "      <td>vehicular</td>\n",
       "      <td>False</td>\n",
       "      <td>NaN</td>\n",
       "      <td>True</td>\n",
       "      <td>True</td>\n",
       "      <td>True</td>\n",
       "      <td>Black</td>\n",
       "    </tr>\n",
       "  </tbody>\n",
       "</table>\n",
       "</div>"
      ],
      "text/plain": [
       "  raw_row_number        date      time        lat        lng  \\\n",
       "0          93569  2001-01-01  01:13:00  44.981102 -93.020193   \n",
       "1          93570  2001-01-01  01:14:00  44.959361 -93.141547   \n",
       "2          93571  2001-01-01  01:47:00  44.959163 -93.071815   \n",
       "3          93572  2001-01-01  02:22:00  44.960154 -93.091979   \n",
       "4          93581  2001-01-01  15:01:00  44.959361 -93.141547   \n",
       "\n",
       "   police_grid_number  subject_age            subject_race subject_sex  \\\n",
       "0                  39          NaN                   white        male   \n",
       "1                  87          NaN                   black        male   \n",
       "2                  94          NaN                hispanic        male   \n",
       "3                  92          NaN  asian/pacific islander        male   \n",
       "4                  87          NaN                   black        male   \n",
       "\n",
       "        type citation_issued outcome  frisk_performed  search_conducted  \\\n",
       "0  vehicular           False     NaN            False             False   \n",
       "1  vehicular           False     NaN             True             False   \n",
       "2  vehicular           False     NaN            False             False   \n",
       "3  vehicular           False     NaN             True              True   \n",
       "4  vehicular           False     NaN             True              True   \n",
       "\n",
       "   search_vehicle raw_race_of_driver  \n",
       "0           False              White  \n",
       "1           False              Black  \n",
       "2           False           Hispanic  \n",
       "3            True              Asian  \n",
       "4            True              Black  "
      ]
     },
     "execution_count": 57,
     "metadata": {},
     "output_type": "execute_result"
    }
   ],
   "source": [
    "df.head()"
   ]
  },
  {
   "cell_type": "code",
   "execution_count": 58,
   "metadata": {},
   "outputs": [
    {
     "data": {
      "text/plain": [
       "(675156, 16)"
      ]
     },
     "execution_count": 58,
     "metadata": {},
     "output_type": "execute_result"
    }
   ],
   "source": [
    "df.shape #675156 rows, 16 columns"
   ]
  },
  {
   "cell_type": "markdown",
   "metadata": {},
   "source": [
    "Check for columns with only NaN entries:"
   ]
  },
  {
   "cell_type": "code",
   "execution_count": 59,
   "metadata": {},
   "outputs": [
    {
     "data": {
      "text/plain": [
       "raw_row_number             0\n",
       "date                       0\n",
       "time                       0\n",
       "lat                      167\n",
       "lng                      167\n",
       "police_grid_number         0\n",
       "subject_age           585849\n",
       "subject_race          117994\n",
       "subject_sex           106825\n",
       "type                       0\n",
       "citation_issued            3\n",
       "outcome               581601\n",
       "frisk_performed            0\n",
       "search_conducted           0\n",
       "search_vehicle             0\n",
       "raw_race_of_driver         0\n",
       "dtype: int64"
      ]
     },
     "execution_count": 59,
     "metadata": {},
     "output_type": "execute_result"
    }
   ],
   "source": [
    "df.isnull().sum()"
   ]
  },
  {
   "cell_type": "markdown",
   "metadata": {},
   "source": [
    "To examine a subset of columns:"
   ]
  },
  {
   "cell_type": "code",
   "execution_count": 60,
   "metadata": {
    "scrolled": true
   },
   "outputs": [
    {
     "data": {
      "text/plain": [
       "date    0\n",
       "time    0\n",
       "dtype: int64"
      ]
     },
     "execution_count": 60,
     "metadata": {},
     "output_type": "execute_result"
    }
   ],
   "source": [
    "df[['date', 'time']].isnull().sum()"
   ]
  },
  {
   "cell_type": "markdown",
   "metadata": {},
   "source": [
    "Apparently, there is no column with only NaN entries since no column has `.isnull().sum()` equal to total no. of rows. Therefore, it is not advisable to remove any column with `df.drop('column_name', axis = 'columns', inplace=True)`. However, I will drop all rows where the race cannot be determined."
   ]
  },
  {
   "cell_type": "code",
   "execution_count": 61,
   "metadata": {},
   "outputs": [],
   "source": [
    "df.dropna(subset=['subject_race'], inplace=True)"
   ]
  },
  {
   "cell_type": "code",
   "execution_count": 62,
   "metadata": {},
   "outputs": [
    {
     "data": {
      "text/plain": [
       "(557162, 16)"
      ]
     },
     "execution_count": 62,
     "metadata": {},
     "output_type": "execute_result"
    }
   ],
   "source": [
    "df.shape #no rows are dopped"
   ]
  },
  {
   "cell_type": "markdown",
   "metadata": {},
   "source": [
    "Check if data types make sense:"
   ]
  },
  {
   "cell_type": "code",
   "execution_count": 63,
   "metadata": {},
   "outputs": [
    {
     "data": {
      "text/plain": [
       "raw_row_number         object\n",
       "date                   object\n",
       "time                   object\n",
       "lat                   float64\n",
       "lng                   float64\n",
       "police_grid_number      int64\n",
       "subject_age           float64\n",
       "subject_race           object\n",
       "subject_sex            object\n",
       "type                   object\n",
       "citation_issued        object\n",
       "outcome                object\n",
       "frisk_performed          bool\n",
       "search_conducted         bool\n",
       "search_vehicle           bool\n",
       "raw_race_of_driver     object\n",
       "dtype: object"
      ]
     },
     "execution_count": 63,
     "metadata": {},
     "output_type": "execute_result"
    }
   ],
   "source": [
    "df.dtypes #all ok"
   ]
  },
  {
   "cell_type": "markdown",
   "metadata": {},
   "source": [
    "Obviously, 'citation_issued' is supposed to be boolean instead of string. Lets change that:"
   ]
  },
  {
   "cell_type": "code",
   "execution_count": 64,
   "metadata": {},
   "outputs": [],
   "source": [
    "df['citation_issued'] = df.citation_issued.astype('bool')"
   ]
  },
  {
   "cell_type": "code",
   "execution_count": 65,
   "metadata": {},
   "outputs": [
    {
     "data": {
      "text/plain": [
       "dtype('bool')"
      ]
     },
     "execution_count": 65,
     "metadata": {},
     "output_type": "execute_result"
    }
   ],
   "source": [
    "df['citation_issued'].dtype"
   ]
  },
  {
   "cell_type": "markdown",
   "metadata": {},
   "source": [
    "'raw_race_of_driver' column is supposedly a category. When assigning the category data type, Python will automatically do things such as logically sort values, i.e. it is better to change the data type to categorical instead of object. "
   ]
  },
  {
   "cell_type": "code",
   "execution_count": 66,
   "metadata": {},
   "outputs": [
    {
     "data": {
      "text/plain": [
       "array(['White', 'Black', 'Hispanic', 'Asian', 'Native American'],\n",
       "      dtype=object)"
      ]
     },
     "execution_count": 66,
     "metadata": {},
     "output_type": "execute_result"
    }
   ],
   "source": [
    "df.raw_race_of_driver.unique() #not categorical ->convert"
   ]
  },
  {
   "cell_type": "code",
   "execution_count": 67,
   "metadata": {},
   "outputs": [
    {
     "data": {
      "text/plain": [
       "['White', 'Black', 'Hispanic', 'Asian', 'Native American']"
      ]
     },
     "execution_count": 67,
     "metadata": {},
     "output_type": "execute_result"
    }
   ],
   "source": [
    "cats = [category for category in df.raw_race_of_driver.unique()]\n",
    "cats"
   ]
  },
  {
   "cell_type": "code",
   "execution_count": 68,
   "metadata": {},
   "outputs": [
    {
     "data": {
      "text/plain": [
       "[White, Black, Hispanic, Asian, Native American]\n",
       "Categories (5, object): [White < Black < Hispanic < Asian < Native American]"
      ]
     },
     "execution_count": 68,
     "metadata": {},
     "output_type": "execute_result"
    }
   ],
   "source": [
    "df['raw_race_of_driver'] = df.raw_race_of_driver.astype(pd.api.types.CategoricalDtype(categories = cats, ordered=True))\n",
    "df.raw_race_of_driver.unique()"
   ]
  },
  {
   "cell_type": "markdown",
   "metadata": {},
   "source": [
    "Combine 'date' and 'time' columns into a single 'date_and_time' column and set the new column as the index to allow for easy time-specific filtering:"
   ]
  },
  {
   "cell_type": "code",
   "execution_count": 69,
   "metadata": {},
   "outputs": [],
   "source": [
    "date_and_time = df['date'].str.cat(df['time'], sep=' ') \n",
    "#because dtype of date and time is object i.e. string, we can use .cat str-method"
   ]
  },
  {
   "cell_type": "code",
   "execution_count": 70,
   "metadata": {},
   "outputs": [
    {
     "name": "stdout",
     "output_type": "stream",
     "text": [
      "Index(['raw_row_number', 'date', 'time', 'lat', 'lng', 'police_grid_number',\n",
      "       'subject_age', 'subject_race', 'subject_sex', 'type', 'citation_issued',\n",
      "       'outcome', 'frisk_performed', 'search_conducted', 'search_vehicle',\n",
      "       'raw_race_of_driver', 'date_and_time'],\n",
      "      dtype='object')\n"
     ]
    }
   ],
   "source": [
    "df['date_and_time'] = pd.to_datetime(date_and_time) #add it as new column to the df\n",
    "print(df.columns)"
   ]
  },
  {
   "cell_type": "code",
   "execution_count": 71,
   "metadata": {},
   "outputs": [
    {
     "data": {
      "text/html": [
       "<div>\n",
       "<style scoped>\n",
       "    .dataframe tbody tr th:only-of-type {\n",
       "        vertical-align: middle;\n",
       "    }\n",
       "\n",
       "    .dataframe tbody tr th {\n",
       "        vertical-align: top;\n",
       "    }\n",
       "\n",
       "    .dataframe thead th {\n",
       "        text-align: right;\n",
       "    }\n",
       "</style>\n",
       "<table border=\"1\" class=\"dataframe\">\n",
       "  <thead>\n",
       "    <tr style=\"text-align: right;\">\n",
       "      <th></th>\n",
       "      <th>raw_row_number</th>\n",
       "      <th>date</th>\n",
       "      <th>time</th>\n",
       "      <th>lat</th>\n",
       "      <th>lng</th>\n",
       "      <th>police_grid_number</th>\n",
       "      <th>subject_age</th>\n",
       "      <th>subject_race</th>\n",
       "      <th>subject_sex</th>\n",
       "      <th>type</th>\n",
       "      <th>citation_issued</th>\n",
       "      <th>outcome</th>\n",
       "      <th>frisk_performed</th>\n",
       "      <th>search_conducted</th>\n",
       "      <th>search_vehicle</th>\n",
       "      <th>raw_race_of_driver</th>\n",
       "    </tr>\n",
       "    <tr>\n",
       "      <th>date_and_time</th>\n",
       "      <th></th>\n",
       "      <th></th>\n",
       "      <th></th>\n",
       "      <th></th>\n",
       "      <th></th>\n",
       "      <th></th>\n",
       "      <th></th>\n",
       "      <th></th>\n",
       "      <th></th>\n",
       "      <th></th>\n",
       "      <th></th>\n",
       "      <th></th>\n",
       "      <th></th>\n",
       "      <th></th>\n",
       "      <th></th>\n",
       "      <th></th>\n",
       "    </tr>\n",
       "  </thead>\n",
       "  <tbody>\n",
       "    <tr>\n",
       "      <th>2001-01-01 01:13:00</th>\n",
       "      <td>93569</td>\n",
       "      <td>2001-01-01</td>\n",
       "      <td>01:13:00</td>\n",
       "      <td>44.981102</td>\n",
       "      <td>-93.020193</td>\n",
       "      <td>39</td>\n",
       "      <td>NaN</td>\n",
       "      <td>white</td>\n",
       "      <td>male</td>\n",
       "      <td>vehicular</td>\n",
       "      <td>False</td>\n",
       "      <td>NaN</td>\n",
       "      <td>False</td>\n",
       "      <td>False</td>\n",
       "      <td>False</td>\n",
       "      <td>White</td>\n",
       "    </tr>\n",
       "    <tr>\n",
       "      <th>2001-01-01 01:14:00</th>\n",
       "      <td>93570</td>\n",
       "      <td>2001-01-01</td>\n",
       "      <td>01:14:00</td>\n",
       "      <td>44.959361</td>\n",
       "      <td>-93.141547</td>\n",
       "      <td>87</td>\n",
       "      <td>NaN</td>\n",
       "      <td>black</td>\n",
       "      <td>male</td>\n",
       "      <td>vehicular</td>\n",
       "      <td>False</td>\n",
       "      <td>NaN</td>\n",
       "      <td>True</td>\n",
       "      <td>False</td>\n",
       "      <td>False</td>\n",
       "      <td>Black</td>\n",
       "    </tr>\n",
       "    <tr>\n",
       "      <th>2001-01-01 01:47:00</th>\n",
       "      <td>93571</td>\n",
       "      <td>2001-01-01</td>\n",
       "      <td>01:47:00</td>\n",
       "      <td>44.959163</td>\n",
       "      <td>-93.071815</td>\n",
       "      <td>94</td>\n",
       "      <td>NaN</td>\n",
       "      <td>hispanic</td>\n",
       "      <td>male</td>\n",
       "      <td>vehicular</td>\n",
       "      <td>False</td>\n",
       "      <td>NaN</td>\n",
       "      <td>False</td>\n",
       "      <td>False</td>\n",
       "      <td>False</td>\n",
       "      <td>Hispanic</td>\n",
       "    </tr>\n",
       "    <tr>\n",
       "      <th>2001-01-01 02:22:00</th>\n",
       "      <td>93572</td>\n",
       "      <td>2001-01-01</td>\n",
       "      <td>02:22:00</td>\n",
       "      <td>44.960154</td>\n",
       "      <td>-93.091979</td>\n",
       "      <td>92</td>\n",
       "      <td>NaN</td>\n",
       "      <td>asian/pacific islander</td>\n",
       "      <td>male</td>\n",
       "      <td>vehicular</td>\n",
       "      <td>False</td>\n",
       "      <td>NaN</td>\n",
       "      <td>True</td>\n",
       "      <td>True</td>\n",
       "      <td>True</td>\n",
       "      <td>Asian</td>\n",
       "    </tr>\n",
       "    <tr>\n",
       "      <th>2001-01-01 15:01:00</th>\n",
       "      <td>93581</td>\n",
       "      <td>2001-01-01</td>\n",
       "      <td>15:01:00</td>\n",
       "      <td>44.959361</td>\n",
       "      <td>-93.141547</td>\n",
       "      <td>87</td>\n",
       "      <td>NaN</td>\n",
       "      <td>black</td>\n",
       "      <td>male</td>\n",
       "      <td>vehicular</td>\n",
       "      <td>False</td>\n",
       "      <td>NaN</td>\n",
       "      <td>True</td>\n",
       "      <td>True</td>\n",
       "      <td>True</td>\n",
       "      <td>Black</td>\n",
       "    </tr>\n",
       "  </tbody>\n",
       "</table>\n",
       "</div>"
      ],
      "text/plain": [
       "                    raw_row_number        date      time        lat  \\\n",
       "date_and_time                                                         \n",
       "2001-01-01 01:13:00          93569  2001-01-01  01:13:00  44.981102   \n",
       "2001-01-01 01:14:00          93570  2001-01-01  01:14:00  44.959361   \n",
       "2001-01-01 01:47:00          93571  2001-01-01  01:47:00  44.959163   \n",
       "2001-01-01 02:22:00          93572  2001-01-01  02:22:00  44.960154   \n",
       "2001-01-01 15:01:00          93581  2001-01-01  15:01:00  44.959361   \n",
       "\n",
       "                           lng  police_grid_number  subject_age  \\\n",
       "date_and_time                                                     \n",
       "2001-01-01 01:13:00 -93.020193                  39          NaN   \n",
       "2001-01-01 01:14:00 -93.141547                  87          NaN   \n",
       "2001-01-01 01:47:00 -93.071815                  94          NaN   \n",
       "2001-01-01 02:22:00 -93.091979                  92          NaN   \n",
       "2001-01-01 15:01:00 -93.141547                  87          NaN   \n",
       "\n",
       "                               subject_race subject_sex       type  \\\n",
       "date_and_time                                                        \n",
       "2001-01-01 01:13:00                   white        male  vehicular   \n",
       "2001-01-01 01:14:00                   black        male  vehicular   \n",
       "2001-01-01 01:47:00                hispanic        male  vehicular   \n",
       "2001-01-01 02:22:00  asian/pacific islander        male  vehicular   \n",
       "2001-01-01 15:01:00                   black        male  vehicular   \n",
       "\n",
       "                     citation_issued outcome  frisk_performed  \\\n",
       "date_and_time                                                   \n",
       "2001-01-01 01:13:00            False     NaN            False   \n",
       "2001-01-01 01:14:00            False     NaN             True   \n",
       "2001-01-01 01:47:00            False     NaN            False   \n",
       "2001-01-01 02:22:00            False     NaN             True   \n",
       "2001-01-01 15:01:00            False     NaN             True   \n",
       "\n",
       "                     search_conducted  search_vehicle raw_race_of_driver  \n",
       "date_and_time                                                             \n",
       "2001-01-01 01:13:00             False           False              White  \n",
       "2001-01-01 01:14:00             False           False              Black  \n",
       "2001-01-01 01:47:00             False           False           Hispanic  \n",
       "2001-01-01 02:22:00              True            True              Asian  \n",
       "2001-01-01 15:01:00              True            True              Black  "
      ]
     },
     "execution_count": 71,
     "metadata": {},
     "output_type": "execute_result"
    }
   ],
   "source": [
    "df.set_index('date_and_time', inplace=True)\n",
    "df.head()"
   ]
  },
  {
   "cell_type": "code",
   "execution_count": 72,
   "metadata": {},
   "outputs": [
    {
     "name": "stdout",
     "output_type": "stream",
     "text": [
      "DatetimeIndex(['2001-01-01 01:13:00', '2001-01-01 01:14:00',\n",
      "               '2001-01-01 01:47:00', '2001-01-01 02:22:00',\n",
      "               '2001-01-01 15:01:00', '2001-01-01 03:04:00',\n",
      "               '2001-01-01 03:10:00', '2001-01-01 15:22:00',\n",
      "               '2001-01-01 03:30:00', '2001-01-01 15:33:00',\n",
      "               ...\n",
      "               '2015-12-31 11:38:00', '2015-12-31 11:39:00',\n",
      "               '2015-12-31 11:46:00', '2015-12-31 11:47:00',\n",
      "               '2015-12-31 11:59:00', '2015-12-31 12:02:00',\n",
      "               '2015-12-31 00:03:00', '2015-12-31 00:16:00',\n",
      "               '2015-12-31 00:40:00', '2015-12-31 00:58:00'],\n",
      "              dtype='datetime64[ns]', name='date_and_time', length=557162, freq=None)\n"
     ]
    }
   ],
   "source": [
    "print(df.index)"
   ]
  },
  {
   "cell_type": "markdown",
   "metadata": {},
   "source": [
    "Extract the year"
   ]
  },
  {
   "cell_type": "code",
   "execution_count": 73,
   "metadata": {
    "scrolled": true
   },
   "outputs": [],
   "source": [
    "df['year'] = df['date'].str[0:4]\n",
    "df['year'] = df['year'].astype(int)"
   ]
  },
  {
   "cell_type": "markdown",
   "metadata": {},
   "source": [
    "Lets start with some analysis:"
   ]
  },
  {
   "cell_type": "code",
   "execution_count": 74,
   "metadata": {},
   "outputs": [
    {
     "data": {
      "text/plain": [
       "White              265143\n",
       "Black              188761\n",
       "Asian               54904\n",
       "Hispanic            43062\n",
       "Native American      5292\n",
       "Name: raw_race_of_driver, dtype: int64"
      ]
     },
     "execution_count": 74,
     "metadata": {},
     "output_type": "execute_result"
    }
   ],
   "source": [
    "df.raw_race_of_driver.value_counts(dropna=False) \n",
    "#even though there are no NaN entries, we see that 'No Data' matches sum of NaN in column 'subject_race'"
   ]
  },
  {
   "cell_type": "code",
   "execution_count": 75,
   "metadata": {},
   "outputs": [
    {
     "data": {
      "text/plain": [
       "White              0.475881\n",
       "Black              0.338790\n",
       "Asian              0.098542\n",
       "Hispanic           0.077288\n",
       "Native American    0.009498\n",
       "Name: raw_race_of_driver, dtype: float64"
      ]
     },
     "execution_count": 75,
     "metadata": {},
     "output_type": "execute_result"
    }
   ],
   "source": [
    "df.raw_race_of_driver.value_counts(normalize=True, dropna=False) #relative proportions"
   ]
  },
  {
   "cell_type": "markdown",
   "metadata": {},
   "source": [
    "For better overview, lets create a frequency table:"
   ]
  },
  {
   "cell_type": "code",
   "execution_count": 76,
   "metadata": {
    "scrolled": true
   },
   "outputs": [
    {
     "data": {
      "text/html": [
       "<div>\n",
       "<style scoped>\n",
       "    .dataframe tbody tr th:only-of-type {\n",
       "        vertical-align: middle;\n",
       "    }\n",
       "\n",
       "    .dataframe tbody tr th {\n",
       "        vertical-align: top;\n",
       "    }\n",
       "\n",
       "    .dataframe thead th {\n",
       "        text-align: right;\n",
       "    }\n",
       "</style>\n",
       "<table border=\"1\" class=\"dataframe\">\n",
       "  <thead>\n",
       "    <tr style=\"text-align: right;\">\n",
       "      <th>subject_sex</th>\n",
       "      <th>female</th>\n",
       "      <th>male</th>\n",
       "    </tr>\n",
       "    <tr>\n",
       "      <th>raw_race_of_driver</th>\n",
       "      <th></th>\n",
       "      <th></th>\n",
       "    </tr>\n",
       "  </thead>\n",
       "  <tbody>\n",
       "    <tr>\n",
       "      <th>White</th>\n",
       "      <td>97535</td>\n",
       "      <td>167417</td>\n",
       "    </tr>\n",
       "    <tr>\n",
       "      <th>Black</th>\n",
       "      <td>55064</td>\n",
       "      <td>133331</td>\n",
       "    </tr>\n",
       "    <tr>\n",
       "      <th>Hispanic</th>\n",
       "      <td>9096</td>\n",
       "      <td>33927</td>\n",
       "    </tr>\n",
       "    <tr>\n",
       "      <th>Asian</th>\n",
       "      <td>13882</td>\n",
       "      <td>40966</td>\n",
       "    </tr>\n",
       "    <tr>\n",
       "      <th>Native American</th>\n",
       "      <td>1872</td>\n",
       "      <td>3387</td>\n",
       "    </tr>\n",
       "  </tbody>\n",
       "</table>\n",
       "</div>"
      ],
      "text/plain": [
       "subject_sex         female    male\n",
       "raw_race_of_driver                \n",
       "White                97535  167417\n",
       "Black                55064  133331\n",
       "Hispanic              9096   33927\n",
       "Asian                13882   40966\n",
       "Native American       1872    3387"
      ]
     },
     "execution_count": 76,
     "metadata": {},
     "output_type": "execute_result"
    }
   ],
   "source": [
    "frequency_table= pd.crosstab(df['raw_race_of_driver'], df['subject_sex'])\n",
    "frequency_table"
   ]
  },
  {
   "cell_type": "code",
   "execution_count": 77,
   "metadata": {},
   "outputs": [
    {
     "data": {
      "text/plain": [
       "<matplotlib.axes._subplots.AxesSubplot at 0x18dafc537f0>"
      ]
     },
     "execution_count": 77,
     "metadata": {},
     "output_type": "execute_result"
    },
    {
     "data": {
      "image/png": "[encoded data removed]",
      "text/plain": [
       "<Figure size 432x288 with 1 Axes>"
      ]
     },
     "metadata": {
      "needs_background": "light"
     },
     "output_type": "display_data"
    }
   ],
   "source": [
    "frequency_table.plot(kind='bar', stacked=True, title='Frequency of police stops by driver race', label='gender')"
   ]
  },
  {
   "cell_type": "markdown",
   "metadata": {},
   "source": [
    "Create a column with dtype boolean when race is equal to 'black':"
   ]
  },
  {
   "cell_type": "code",
   "execution_count": 78,
   "metadata": {},
   "outputs": [],
   "source": [
    "mapping = {'Black': True, 'White': False, 'No Data': False, 'Asian': False, 'Hispanic': False, 'Native American': False}"
   ]
  },
  {
   "cell_type": "code",
   "execution_count": 79,
   "metadata": {
    "scrolled": true
   },
   "outputs": [
    {
     "data": {
      "text/html": [
       "<div>\n",
       "<style scoped>\n",
       "    .dataframe tbody tr th:only-of-type {\n",
       "        vertical-align: middle;\n",
       "    }\n",
       "\n",
       "    .dataframe tbody tr th {\n",
       "        vertical-align: top;\n",
       "    }\n",
       "\n",
       "    .dataframe thead th {\n",
       "        text-align: right;\n",
       "    }\n",
       "</style>\n",
       "<table border=\"1\" class=\"dataframe\">\n",
       "  <thead>\n",
       "    <tr style=\"text-align: right;\">\n",
       "      <th></th>\n",
       "      <th>is_black</th>\n",
       "      <th>raw_race_of_driver</th>\n",
       "    </tr>\n",
       "    <tr>\n",
       "      <th>date_and_time</th>\n",
       "      <th></th>\n",
       "      <th></th>\n",
       "    </tr>\n",
       "  </thead>\n",
       "  <tbody>\n",
       "    <tr>\n",
       "      <th>2001-01-01 01:13:00</th>\n",
       "      <td>False</td>\n",
       "      <td>White</td>\n",
       "    </tr>\n",
       "    <tr>\n",
       "      <th>2001-01-01 01:14:00</th>\n",
       "      <td>True</td>\n",
       "      <td>Black</td>\n",
       "    </tr>\n",
       "    <tr>\n",
       "      <th>2001-01-01 01:47:00</th>\n",
       "      <td>False</td>\n",
       "      <td>Hispanic</td>\n",
       "    </tr>\n",
       "    <tr>\n",
       "      <th>2001-01-01 02:22:00</th>\n",
       "      <td>False</td>\n",
       "      <td>Asian</td>\n",
       "    </tr>\n",
       "    <tr>\n",
       "      <th>2001-01-01 15:01:00</th>\n",
       "      <td>True</td>\n",
       "      <td>Black</td>\n",
       "    </tr>\n",
       "  </tbody>\n",
       "</table>\n",
       "</div>"
      ],
      "text/plain": [
       "                     is_black raw_race_of_driver\n",
       "date_and_time                                   \n",
       "2001-01-01 01:13:00     False              White\n",
       "2001-01-01 01:14:00      True              Black\n",
       "2001-01-01 01:47:00     False           Hispanic\n",
       "2001-01-01 02:22:00     False              Asian\n",
       "2001-01-01 15:01:00      True              Black"
      ]
     },
     "execution_count": 79,
     "metadata": {},
     "output_type": "execute_result"
    }
   ],
   "source": [
    "df['is_black'] = df['raw_race_of_driver'].map(mapping)\n",
    "df[['is_black', 'raw_race_of_driver']].head()"
   ]
  },
  {
   "cell_type": "code",
   "execution_count": 80,
   "metadata": {},
   "outputs": [
    {
     "data": {
      "text/plain": [
       "dtype('bool')"
      ]
     },
     "execution_count": 80,
     "metadata": {},
     "output_type": "execute_result"
    }
   ],
   "source": [
    "df['is_black'].dtype"
   ]
  },
  {
   "cell_type": "markdown",
   "metadata": {},
   "source": [
    "How often are frisks/searches actually done?"
   ]
  },
  {
   "cell_type": "code",
   "execution_count": 81,
   "metadata": {},
   "outputs": [
    {
     "data": {
      "text/plain": [
       "False    0.896355\n",
       "True     0.103645\n",
       "Name: frisk_performed, dtype: float64"
      ]
     },
     "execution_count": 81,
     "metadata": {},
     "output_type": "execute_result"
    }
   ],
   "source": [
    "df.frisk_performed.value_counts(normalize=True) #most of times there is no frisk performed"
   ]
  },
  {
   "cell_type": "code",
   "execution_count": 82,
   "metadata": {},
   "outputs": [
    {
     "data": {
      "text/plain": [
       "False    0.922687\n",
       "True     0.077313\n",
       "Name: search_conducted, dtype: float64"
      ]
     },
     "execution_count": 82,
     "metadata": {},
     "output_type": "execute_result"
    }
   ],
   "source": [
    "df.search_conducted.value_counts(normalize=True) #most of times there is no search performed; and searches occur less often"
   ]
  },
  {
   "cell_type": "markdown",
   "metadata": {},
   "source": [
    "How often is a frisk followed by a search of the vehicle?"
   ]
  },
  {
   "cell_type": "code",
   "execution_count": 83,
   "metadata": {},
   "outputs": [
    {
     "data": {
      "text/html": [
       "<div>\n",
       "<style scoped>\n",
       "    .dataframe tbody tr th:only-of-type {\n",
       "        vertical-align: middle;\n",
       "    }\n",
       "\n",
       "    .dataframe tbody tr th {\n",
       "        vertical-align: top;\n",
       "    }\n",
       "\n",
       "    .dataframe thead th {\n",
       "        text-align: right;\n",
       "    }\n",
       "</style>\n",
       "<table border=\"1\" class=\"dataframe\">\n",
       "  <thead>\n",
       "    <tr style=\"text-align: right;\">\n",
       "      <th></th>\n",
       "      <th>frisk_performed</th>\n",
       "      <th>search_conducted</th>\n",
       "      <th>frisked_and_searched</th>\n",
       "    </tr>\n",
       "    <tr>\n",
       "      <th>date_and_time</th>\n",
       "      <th></th>\n",
       "      <th></th>\n",
       "      <th></th>\n",
       "    </tr>\n",
       "  </thead>\n",
       "  <tbody>\n",
       "    <tr>\n",
       "      <th>2001-01-01 01:13:00</th>\n",
       "      <td>False</td>\n",
       "      <td>False</td>\n",
       "      <td>False</td>\n",
       "    </tr>\n",
       "    <tr>\n",
       "      <th>2001-01-01 01:14:00</th>\n",
       "      <td>True</td>\n",
       "      <td>False</td>\n",
       "      <td>False</td>\n",
       "    </tr>\n",
       "    <tr>\n",
       "      <th>2001-01-01 01:47:00</th>\n",
       "      <td>False</td>\n",
       "      <td>False</td>\n",
       "      <td>False</td>\n",
       "    </tr>\n",
       "    <tr>\n",
       "      <th>2001-01-01 02:22:00</th>\n",
       "      <td>True</td>\n",
       "      <td>True</td>\n",
       "      <td>True</td>\n",
       "    </tr>\n",
       "    <tr>\n",
       "      <th>2001-01-01 15:01:00</th>\n",
       "      <td>True</td>\n",
       "      <td>True</td>\n",
       "      <td>True</td>\n",
       "    </tr>\n",
       "  </tbody>\n",
       "</table>\n",
       "</div>"
      ],
      "text/plain": [
       "                     frisk_performed  search_conducted  frisked_and_searched\n",
       "date_and_time                                                               \n",
       "2001-01-01 01:13:00            False             False                 False\n",
       "2001-01-01 01:14:00             True             False                 False\n",
       "2001-01-01 01:47:00            False             False                 False\n",
       "2001-01-01 02:22:00             True              True                  True\n",
       "2001-01-01 15:01:00             True              True                  True"
      ]
     },
     "execution_count": 83,
     "metadata": {},
     "output_type": "execute_result"
    }
   ],
   "source": [
    "df['frisked_and_searched'] = df.search_conducted & df.frisk_performed\n",
    "df[['frisk_performed', 'search_conducted', 'frisked_and_searched']].head(5)"
   ]
  },
  {
   "cell_type": "code",
   "execution_count": 84,
   "metadata": {},
   "outputs": [
    {
     "data": {
      "text/plain": [
       "False    0.924485\n",
       "True     0.075515\n",
       "Name: frisked_and_searched, dtype: float64"
      ]
     },
     "execution_count": 84,
     "metadata": {},
     "output_type": "execute_result"
    }
   ],
   "source": [
    "df.frisked_and_searched.value_counts(normalize=True)"
   ]
  },
  {
   "cell_type": "markdown",
   "metadata": {},
   "source": [
    "There are several ways to analyse e.g. if frisk_performed is different for various races:"
   ]
  },
  {
   "cell_type": "code",
   "execution_count": 85,
   "metadata": {},
   "outputs": [
    {
     "data": {
      "text/plain": [
       "raw_race_of_driver\n",
       "White              0.070200\n",
       "Black              0.150863\n",
       "Hispanic           0.139798\n",
       "Asian              0.076370\n",
       "Native American    0.083900\n",
       "Name: frisk_performed, dtype: float64"
      ]
     },
     "execution_count": 85,
     "metadata": {},
     "output_type": "execute_result"
    }
   ],
   "source": [
    "frisk_rate = df.groupby(['raw_race_of_driver']).frisk_performed.mean() #1\n",
    "frisk_rate"
   ]
  },
  {
   "cell_type": "code",
   "execution_count": 86,
   "metadata": {},
   "outputs": [
    {
     "data": {
      "text/plain": [
       "is_black\n",
       "False    0.079451\n",
       "True     0.150863\n",
       "Name: frisk_performed, dtype: float64"
      ]
     },
     "execution_count": 86,
     "metadata": {},
     "output_type": "execute_result"
    }
   ],
   "source": [
    "df.groupby(['is_black']).frisk_performed.mean() #2"
   ]
  },
  {
   "cell_type": "code",
   "execution_count": 87,
   "metadata": {},
   "outputs": [
    {
     "data": {
      "text/plain": [
       "0.15086273117858032"
      ]
     },
     "execution_count": 87,
     "metadata": {},
     "output_type": "execute_result"
    }
   ],
   "source": [
    "df[df['raw_race_of_driver'] == 'Black'].frisk_performed.mean() #3"
   ]
  },
  {
   "cell_type": "markdown",
   "metadata": {},
   "source": [
    "You can also do a groupby statement with multiple columns:"
   ]
  },
  {
   "cell_type": "code",
   "execution_count": 88,
   "metadata": {},
   "outputs": [
    {
     "data": {
      "text/plain": [
       "raw_race_of_driver  subject_sex\n",
       "White               female         0.032327\n",
       "                    male           0.092177\n",
       "Black               female         0.050214\n",
       "                    male           0.192146\n",
       "Hispanic            female         0.046504\n",
       "                    male           0.164824\n",
       "Asian               female         0.019162\n",
       "                    male           0.095616\n",
       "Native American     female         0.059829\n",
       "                    male           0.097136\n",
       "Name: frisk_performed, dtype: float64"
      ]
     },
     "execution_count": 88,
     "metadata": {},
     "output_type": "execute_result"
    }
   ],
   "source": [
    "df.groupby(['raw_race_of_driver', 'subject_sex']).frisk_performed.mean()"
   ]
  },
  {
   "cell_type": "code",
   "execution_count": 89,
   "metadata": {},
   "outputs": [
    {
     "data": {
      "text/plain": [
       "<matplotlib.axes._subplots.AxesSubplot at 0x18db5870908>"
      ]
     },
     "execution_count": 89,
     "metadata": {},
     "output_type": "execute_result"
    },
    {
     "data": {
      "image/png": "[encoded data removed]",
      "text/plain": [
       "<Figure size 432x288 with 1 Axes>"
      ]
     },
     "metadata": {
      "needs_background": "light"
     },
     "output_type": "display_data"
    }
   ],
   "source": [
    "frisk_rate.plot(kind='bar', title='Frisk rate by driver race')"
   ]
  },
  {
   "cell_type": "code",
   "execution_count": 90,
   "metadata": {},
   "outputs": [
    {
     "data": {
      "text/plain": [
       "raw_race_of_driver\n",
       "White              0.052277\n",
       "Black              0.114965\n",
       "Hispanic           0.097464\n",
       "Asian              0.054440\n",
       "Native American    0.061980\n",
       "Name: search_conducted, dtype: float64"
      ]
     },
     "execution_count": 90,
     "metadata": {},
     "output_type": "execute_result"
    }
   ],
   "source": [
    "search_rate = df.groupby(['raw_race_of_driver']).search_conducted.mean()\n",
    "search_rate"
   ]
  },
  {
   "cell_type": "code",
   "execution_count": 91,
   "metadata": {},
   "outputs": [
    {
     "data": {
      "text/plain": [
       "<matplotlib.axes._subplots.AxesSubplot at 0x18db013d6d8>"
      ]
     },
     "execution_count": 91,
     "metadata": {},
     "output_type": "execute_result"
    },
    {
     "data": {
      "image/png": "[encoded data removed]",
      "text/plain": [
       "<Figure size 432x288 with 1 Axes>"
      ]
     },
     "metadata": {
      "needs_background": "light"
     },
     "output_type": "display_data"
    }
   ],
   "source": [
    "search_rate.plot(kind='bar', title='Search rate by driver race')"
   ]
  },
  {
   "cell_type": "code",
   "execution_count": 92,
   "metadata": {},
   "outputs": [
    {
     "data": {
      "text/plain": [
       "raw_race_of_driver\n",
       "White              0.050799\n",
       "Black              0.112640\n",
       "Hispanic           0.095351\n",
       "Asian              0.053202\n",
       "Native American    0.059713\n",
       "Name: frisked_and_searched, dtype: float64"
      ]
     },
     "execution_count": 92,
     "metadata": {},
     "output_type": "execute_result"
    }
   ],
   "source": [
    "frisk_and_searched_rate = df.groupby(['raw_race_of_driver']).frisked_and_searched.mean()\n",
    "frisk_and_searched_rate"
   ]
  },
  {
   "cell_type": "code",
   "execution_count": 93,
   "metadata": {},
   "outputs": [
    {
     "data": {
      "text/plain": [
       "<matplotlib.axes._subplots.AxesSubplot at 0x18db00cd240>"
      ]
     },
     "execution_count": 93,
     "metadata": {},
     "output_type": "execute_result"
    },
    {
     "data": {
      "image/png": "[encoded data removed]",
      "text/plain": [
       "<Figure size 432x288 with 1 Axes>"
      ]
     },
     "metadata": {
      "needs_background": "light"
     },
     "output_type": "display_data"
    }
   ],
   "source": [
    "frisk_and_searched_rate.plot(kind='bar', title='Frisk and search rate by driver race')"
   ]
  },
  {
   "cell_type": "markdown",
   "metadata": {},
   "source": [
    "The data shows that a) blacks are being frisked/searched more than twice as often than e.g. whites and b) that males of all races get frisked/searched more often than females.\n",
    "\n",
    "One could argue that the increased frequency for blacks being frisked is because there are more blacks than e.g. whites in the overall sample. However, we have already shown above that this is not the case. In fact, there are 40% more white people in the sample than black people."
   ]
  },
  {
   "cell_type": "markdown",
   "metadata": {},
   "source": [
    "Bottom line: there is a correlation between being black and being stopped & frisked / searched. However, I cannot draw any conclusions about causation since I would need additional data and expertise for that. "
   ]
  },
  {
   "cell_type": "markdown",
   "metadata": {},
   "source": [
    "Since our data is also a time series, we can inspect the frisks and searches over time:"
   ]
  },
  {
   "cell_type": "code",
   "execution_count": 94,
   "metadata": {},
   "outputs": [
    {
     "data": {
      "text/plain": [
       "year\n",
       "2001    0.105946\n",
       "2002    0.098413\n",
       "2003    0.097661\n",
       "2004    0.105500\n",
       "2005    0.115576\n",
       "2006    0.152960\n",
       "2007    0.174571\n",
       "2008    0.157712\n",
       "2009    0.137141\n",
       "2010    0.105629\n",
       "2011    0.092641\n",
       "2012    0.072472\n",
       "2013    0.068739\n",
       "2014    0.065575\n",
       "2015    0.058582\n",
       "2016    0.035465\n",
       "Name: frisk_performed, dtype: float64"
      ]
     },
     "execution_count": 94,
     "metadata": {},
     "output_type": "execute_result"
    }
   ],
   "source": [
    "frisk_trend = df.groupby(['year']).frisk_performed.mean() #for this we need the previously added 'year' column \n",
    "frisk_trend"
   ]
  },
  {
   "cell_type": "markdown",
   "metadata": {},
   "source": [
    "However, since our index is a datetime object, we can simply `.resample` the data:"
   ]
  },
  {
   "cell_type": "code",
   "execution_count": 95,
   "metadata": {},
   "outputs": [
    {
     "data": {
      "text/plain": [
       "date_and_time\n",
       "2001-12-31    0.105946\n",
       "2002-12-31    0.098413\n",
       "2003-12-31    0.097661\n",
       "2004-12-31    0.105500\n",
       "2005-12-31    0.115576\n",
       "2006-12-31    0.152960\n",
       "2007-12-31    0.174571\n",
       "2008-12-31    0.157712\n",
       "2009-12-31    0.137141\n",
       "2010-12-31    0.105629\n",
       "2011-12-31    0.092641\n",
       "2012-12-31    0.072472\n",
       "2013-12-31    0.068739\n",
       "2014-12-31    0.065575\n",
       "2015-12-31    0.058582\n",
       "2016-12-31    0.035465\n",
       "Freq: A-DEC, Name: frisk_performed, dtype: float64"
      ]
     },
     "execution_count": 95,
     "metadata": {},
     "output_type": "execute_result"
    }
   ],
   "source": [
    "df.frisk_performed.resample('A').mean()"
   ]
  },
  {
   "cell_type": "code",
   "execution_count": 96,
   "metadata": {},
   "outputs": [],
   "source": [
    "pivot_table = df.pivot_table(index='year', columns='raw_race_of_driver', values='frisk_performed')"
   ]
  },
  {
   "cell_type": "code",
   "execution_count": 97,
   "metadata": {},
   "outputs": [
    {
     "data": {
      "text/plain": [
       "<matplotlib.axes._subplots.AxesSubplot at 0x18dafd1f898>"
      ]
     },
     "execution_count": 97,
     "metadata": {},
     "output_type": "execute_result"
    },
    {
     "data": {
      "image/png": "[encoded data removed]",
      "text/plain": [
       "<Figure size 432x288 with 1 Axes>"
      ]
     },
     "metadata": {
      "needs_background": "light"
     },
     "output_type": "display_data"
    }
   ],
   "source": [
    "pivot_table.plot()"
   ]
  },
  {
   "cell_type": "code",
   "execution_count": 98,
   "metadata": {},
   "outputs": [
    {
     "data": {
      "text/html": [
       "<div>\n",
       "<style scoped>\n",
       "    .dataframe tbody tr th:only-of-type {\n",
       "        vertical-align: middle;\n",
       "    }\n",
       "\n",
       "    .dataframe tbody tr th {\n",
       "        vertical-align: top;\n",
       "    }\n",
       "\n",
       "    .dataframe thead th {\n",
       "        text-align: right;\n",
       "    }\n",
       "</style>\n",
       "<table border=\"1\" class=\"dataframe\">\n",
       "  <thead>\n",
       "    <tr style=\"text-align: right;\">\n",
       "      <th>raw_race_of_driver</th>\n",
       "      <th>White</th>\n",
       "      <th>Black</th>\n",
       "    </tr>\n",
       "    <tr>\n",
       "      <th>year</th>\n",
       "      <th></th>\n",
       "      <th></th>\n",
       "    </tr>\n",
       "  </thead>\n",
       "  <tbody>\n",
       "    <tr>\n",
       "      <th>2001</th>\n",
       "      <td>0.076731</td>\n",
       "      <td>0.171292</td>\n",
       "    </tr>\n",
       "    <tr>\n",
       "      <th>2002</th>\n",
       "      <td>0.063174</td>\n",
       "      <td>0.166011</td>\n",
       "    </tr>\n",
       "    <tr>\n",
       "      <th>2003</th>\n",
       "      <td>0.063573</td>\n",
       "      <td>0.165088</td>\n",
       "    </tr>\n",
       "    <tr>\n",
       "      <th>2004</th>\n",
       "      <td>0.069405</td>\n",
       "      <td>0.172747</td>\n",
       "    </tr>\n",
       "    <tr>\n",
       "      <th>2005</th>\n",
       "      <td>0.073053</td>\n",
       "      <td>0.176860</td>\n",
       "    </tr>\n",
       "    <tr>\n",
       "      <th>2006</th>\n",
       "      <td>0.104085</td>\n",
       "      <td>0.212591</td>\n",
       "    </tr>\n",
       "    <tr>\n",
       "      <th>2007</th>\n",
       "      <td>0.122231</td>\n",
       "      <td>0.222410</td>\n",
       "    </tr>\n",
       "    <tr>\n",
       "      <th>2008</th>\n",
       "      <td>0.112118</td>\n",
       "      <td>0.204170</td>\n",
       "    </tr>\n",
       "    <tr>\n",
       "      <th>2009</th>\n",
       "      <td>0.100839</td>\n",
       "      <td>0.175522</td>\n",
       "    </tr>\n",
       "    <tr>\n",
       "      <th>2010</th>\n",
       "      <td>0.079123</td>\n",
       "      <td>0.130114</td>\n",
       "    </tr>\n",
       "    <tr>\n",
       "      <th>2011</th>\n",
       "      <td>0.068747</td>\n",
       "      <td>0.119070</td>\n",
       "    </tr>\n",
       "    <tr>\n",
       "      <th>2012</th>\n",
       "      <td>0.050927</td>\n",
       "      <td>0.099942</td>\n",
       "    </tr>\n",
       "    <tr>\n",
       "      <th>2013</th>\n",
       "      <td>0.047770</td>\n",
       "      <td>0.092979</td>\n",
       "    </tr>\n",
       "    <tr>\n",
       "      <th>2014</th>\n",
       "      <td>0.045020</td>\n",
       "      <td>0.090820</td>\n",
       "    </tr>\n",
       "    <tr>\n",
       "      <th>2015</th>\n",
       "      <td>0.037495</td>\n",
       "      <td>0.082114</td>\n",
       "    </tr>\n",
       "    <tr>\n",
       "      <th>2016</th>\n",
       "      <td>0.018901</td>\n",
       "      <td>0.057561</td>\n",
       "    </tr>\n",
       "  </tbody>\n",
       "</table>\n",
       "</div>"
      ],
      "text/plain": [
       "raw_race_of_driver     White     Black\n",
       "year                                  \n",
       "2001                0.076731  0.171292\n",
       "2002                0.063174  0.166011\n",
       "2003                0.063573  0.165088\n",
       "2004                0.069405  0.172747\n",
       "2005                0.073053  0.176860\n",
       "2006                0.104085  0.212591\n",
       "2007                0.122231  0.222410\n",
       "2008                0.112118  0.204170\n",
       "2009                0.100839  0.175522\n",
       "2010                0.079123  0.130114\n",
       "2011                0.068747  0.119070\n",
       "2012                0.050927  0.099942\n",
       "2013                0.047770  0.092979\n",
       "2014                0.045020  0.090820\n",
       "2015                0.037495  0.082114\n",
       "2016                0.018901  0.057561"
      ]
     },
     "execution_count": 98,
     "metadata": {},
     "output_type": "execute_result"
    }
   ],
   "source": [
    "comparison_pt = pivot_table.loc[:, 'White':'Black']\n",
    "comparison_pt"
   ]
  },
  {
   "cell_type": "code",
   "execution_count": 99,
   "metadata": {
    "scrolled": true
   },
   "outputs": [
    {
     "data": {
      "text/plain": [
       "is_black  year\n",
       "False     2001    0.084056\n",
       "          2002    0.072200\n",
       "          2003    0.071872\n",
       "          2004    0.079646\n",
       "          2005    0.088532\n",
       "          2006    0.117713\n",
       "          2007    0.141648\n",
       "          2008    0.125000\n",
       "          2009    0.108931\n",
       "          2010    0.087938\n",
       "          2011    0.074842\n",
       "          2012    0.054792\n",
       "          2013    0.053683\n",
       "          2014    0.049087\n",
       "          2015    0.043704\n",
       "          2016    0.024492\n",
       "True      2001    0.171292\n",
       "          2002    0.166011\n",
       "          2003    0.165088\n",
       "          2004    0.172747\n",
       "          2005    0.176860\n",
       "          2006    0.212591\n",
       "          2007    0.222410\n",
       "          2008    0.204170\n",
       "          2009    0.175522\n",
       "          2010    0.130114\n",
       "          2011    0.119070\n",
       "          2012    0.099942\n",
       "          2013    0.092979\n",
       "          2014    0.090820\n",
       "          2015    0.082114\n",
       "          2016    0.057561\n",
       "Name: frisk_performed, dtype: float64"
      ]
     },
     "execution_count": 99,
     "metadata": {},
     "output_type": "execute_result"
    }
   ],
   "source": [
    "trend = df.groupby(['is_black', 'year']).frisk_performed.mean() #check\n",
    "trend"
   ]
  },
  {
   "cell_type": "code",
   "execution_count": 100,
   "metadata": {},
   "outputs": [
    {
     "data": {
      "image/png": "[encoded data removed]",
      "text/plain": [
       "<Figure size 432x288 with 1 Axes>"
      ]
     },
     "metadata": {
      "needs_background": "light"
     },
     "output_type": "display_data"
    }
   ],
   "source": [
    "comparison_pt.plot(title ='annual frisk rate by driver race')\n",
    "plt.show()"
   ]
  },
  {
   "cell_type": "code",
   "execution_count": 101,
   "metadata": {},
   "outputs": [
    {
     "data": {
      "text/plain": [
       "<matplotlib.axes._subplots.AxesSubplot at 0x18dafbc62b0>"
      ]
     },
     "execution_count": 101,
     "metadata": {},
     "output_type": "execute_result"
    },
    {
     "data": {
      "image/png": "[encoded data removed]",
      "text/plain": [
       "<Figure size 432x288 with 1 Axes>"
      ]
     },
     "metadata": {
      "needs_background": "light"
     },
     "output_type": "display_data"
    }
   ],
   "source": [
    "df2 = df.groupby(['year']).count()\n",
    "counts = df2['raw_row_number']\n",
    "counts.plot(title='total no. of observations per year')"
   ]
  },
  {
   "cell_type": "markdown",
   "metadata": {},
   "source": [
    "The last graph shows that a high no. of annual frisks is not due to a high number of annual stops. Clearly, the annual frisk rate peaked in 2007 at a point where total. no. of observations were low. I.e. the high frisk rate is not due to a high amount of police stops. Also, the frisk rate seems to follow a downward trend since its peak in 2007, whereas total no. of police stops remained rather flat."
   ]
  },
  {
   "cell_type": "code",
   "execution_count": null,
   "metadata": {},
   "outputs": [],
   "source": []
  },
  {
   "cell_type": "code",
   "execution_count": null,
   "metadata": {},
   "outputs": [],
   "source": []
  },
  {
   "cell_type": "code",
   "execution_count": null,
   "metadata": {},
   "outputs": [],
   "source": []
  }
 ],
 "metadata": {
  "kernelspec": {
   "display_name": "Python 3",
   "language": "python",
   "name": "python3"
  },
  "language_info": {
   "codemirror_mode": {
    "name": "ipython",
    "version": 3
   },
   "file_extension": ".py",
   "mimetype": "text/x-python",
   "name": "python",
   "nbconvert_exporter": "python",
   "pygments_lexer": "ipython3",
   "version": "3.7.3"
  }
 },
 "nbformat": 4,
 "nbformat_minor": 2
}
